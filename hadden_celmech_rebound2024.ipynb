{
 "cells": [
  {
   "cell_type": "markdown",
   "id": "11593974",
   "metadata": {
    "editable": true,
    "slideshow": {
     "slide_type": "slide"
    },
    "tags": []
   },
   "source": [
    "# Celestial mechanics with the `celmech` code\n",
    "\n",
    "**Sam Hadden** (CITA)\n",
    "\n",
    "Co-author: **Dan Tamayo** (Harvey-Mudd)\n"
   ]
  },
  {
   "cell_type": "code",
   "execution_count": null,
   "id": "a8ee8cb3-4151-4055-821c-997c958e9d4e",
   "metadata": {
    "editable": true,
    "slideshow": {
     "slide_type": "-"
    },
    "tags": []
   },
   "outputs": [],
   "source": [
    "import matplotlib.pyplot as plt\n",
    "import numpy as np\n",
    "from sympy import init_printing\n",
    "init_printing()"
   ]
  },
  {
   "cell_type": "markdown",
   "id": "0d27992c",
   "metadata": {
    "editable": true,
    "slideshow": {
     "slide_type": "slide"
    },
    "tags": []
   },
   "source": [
    "# What is `celmech`?\n",
    "\n",
    "- Code for celestial mechanics calculations\n",
    "    - Calculate disturbing function expansion\n",
    "    - Construct, manipulate, and integrate Hamiltonian equations of motion\n",
    "    - Much more...\n",
    "- Developed mainly in `python`\n",
    "- Designed to work with the [`rebound`](https://github.com/hannorein/rebound) N-body code (Rein & Liu 2012)\n",
    "- Symbolic mathematics with [`sympy`](https://www.sympy.org/en/index.html) (Meurer et. al. 2017)"
   ]
  },
  {
   "cell_type": "markdown",
   "id": "73cc72fd",
   "metadata": {
    "editable": true,
    "slideshow": {
     "slide_type": "slide"
    },
    "tags": []
   },
   "source": [
    "# Where is `celmech`?\n",
    "\n",
    "- PyPI: ``pip install celmech``\n",
    "- GitHub reposity at [github.com/shadden/celmech](https://github.com/shadden/celmech) \n",
    "    - Includes lots of Jupyter notebook examples\n",
    "- Documentation at [celmech.readthedocs.io](https://celmech.readthedocs.io)\n",
    "- [Paper](https://ui.adsabs.harvard.edu/abs/2022AJ....164..179H/abstract) in AJ"
   ]
  },
  {
   "cell_type": "markdown",
   "id": "3c0f7c7f-0219-4bef-86f2-f9f5d4368075",
   "metadata": {
    "editable": true,
    "slideshow": {
     "slide_type": "slide"
    },
    "tags": []
   },
   "source": [
    "# Basic principles"
   ]
  },
  {
   "cell_type": "markdown",
   "id": "e1c4693d-e26c-417b-a42b-928b0eed4f8b",
   "metadata": {
    "editable": true,
    "slideshow": {
     "slide_type": "fragment"
    },
    "tags": []
   },
   "source": [
    "- $N$-body codes like `rebound` integrate exact equations of motion directly"
   ]
  },
  {
   "cell_type": "markdown",
   "id": "cd373f3f-512d-4f62-8ede-4304346baad5",
   "metadata": {
    "editable": true,
    "slideshow": {
     "slide_type": "fragment"
    },
    "tags": []
   },
   "source": [
    "- `celmech` works with approximate equations of motion derived from disturbing function expansion:\n",
    " $$\n",
    " \\begin{multline}\n",
    " -\\frac{Gm_im_j}{|\\mathbf{r}_i - \\mathbf{r}_j |} +\\mathrm{indirect~terms^*}\n",
    " =\\\\ \n",
    " -\\frac{Gm_im_j}{a_j}\n",
    "      \\sum_{\\bf k}     \n",
    "     \\sum_{\\nu_1,\\nu_2,\\nu_3,\\nu_4=0}^\\infty                       \n",
    "     \\tilde{C}_{\\bf k}^{{\\nu}}(\\alpha)\n",
    "     s_i^{|k_5|+2\\nu_1}\n",
    "     s_j^{|k_6|+2\\nu_2}\n",
    "     e_i^{|k_3|+2\\nu_3}\n",
    "     e_i^{|k_4|+2\\nu_4}\n",
    "     \\\\\n",
    "     \\times \\cos(k_1\\lambda_j+k_2\\lambda_i+k_3\\varpi_i+k_4\\varpi_j+k_5\\Omega_i+k_6\\Omega_j)\n",
    " \\end{multline}\n",
    "$$\n",
    "where $s_i=\\sin(I_i/2)$.\n",
    "\n",
    "'*': coodinate-system dependent"
   ]
  },
  {
   "cell_type": "markdown",
   "id": "bda578c1",
   "metadata": {
    "editable": true,
    "slideshow": {
     "slide_type": "slide"
    },
    "tags": []
   },
   "source": [
    "# An example\n",
    "A system of two Earth-mass planets near a 3:2 mean motion resonance"
   ]
  },
  {
   "cell_type": "code",
   "execution_count": null,
   "id": "9f9b7a9b-17f9-4495-bc81-57957250b48a",
   "metadata": {
    "editable": true,
    "slideshow": {
     "slide_type": "-"
    },
    "tags": []
   },
   "outputs": [],
   "source": [
    "import rebound\n",
    "rebound_sim = rebound.Simulation()\n",
    "rebound_sim.add(m=1)\n",
    "rebound_sim.add(m=3e-6,P = 1, e = 0.04)\n",
    "rebound_sim.add(m=3e-6,P = 3 / 2, e = 0.02,l=0.5,pomega = np.pi+1)\n",
    "rebound.OrbitPlot(rebound_sim,color=True,periastron=True);\n",
    "plt.show()"
   ]
  },
  {
   "cell_type": "markdown",
   "id": "49f27b08",
   "metadata": {
    "editable": true,
    "slideshow": {
     "slide_type": "slide"
    },
    "tags": []
   },
   "source": [
    "# Initializing a ``celmech`` model \n",
    "- Create `Poincare` and `PoincareHamiltonian` instances\n",
    "- Initialize directly from a ``rebound`` simulation"
   ]
  },
  {
   "cell_type": "code",
   "execution_count": null,
   "id": "489fe341",
   "metadata": {
    "editable": true,
    "slideshow": {
     "slide_type": "fragment"
    },
    "tags": []
   },
   "outputs": [],
   "source": [
    "from celmech import Poincare, PoincareHamiltonian\n",
    "poincare_particles = Poincare.from_Simulation(rebound_sim)\n",
    "Hp = PoincareHamiltonian(poincare_particles)"
   ]
  },
  {
   "cell_type": "markdown",
   "id": "c88f9e9b",
   "metadata": {
    "editable": true,
    "slideshow": {
     "slide_type": "slide"
    },
    "tags": []
   },
   "source": [
    "# The ``Poincare`` class \n",
    "- Represents system in terms of canonical variable pairs:\n",
    " $$\\begin{align}\n",
    " \\Lambda_i&= \\mu_i\\sqrt{GM_ia_i} ~;~ \\lambda_i \\\\\n",
    " (\\eta_i,\\kappa_i)&\\approx \\sqrt{\\Lambda_i}e_i \\times(-\\sin\\varpi_i,\\cos\\varpi_i)\\\\\n",
    "  (\\rho_i,\\sigma_i)&\\approx \\sqrt{\\Lambda_i}\\sin(I_i/2) \\times(-\\sin\\Omega_i,\\cos\\Omega_i)\\\\\n",
    " \\end{align}$$"
   ]
  },
  {
   "cell_type": "code",
   "execution_count": null,
   "id": "b7139380",
   "metadata": {
    "editable": true,
    "slideshow": {
     "slide_type": ""
    },
    "tags": []
   },
   "outputs": [],
   "source": [
    "type(poincare_particles)"
   ]
  },
  {
   "cell_type": "code",
   "execution_count": null,
   "id": "dc8ab64f",
   "metadata": {
    "editable": true,
    "slideshow": {
     "slide_type": ""
    },
    "tags": []
   },
   "outputs": [],
   "source": [
    "qp_pairs = poincare_particles.qp_pairs\n",
    "qp_pairs"
   ]
  },
  {
   "cell_type": "markdown",
   "id": "2d1aa6d7",
   "metadata": {
    "editable": true,
    "slideshow": {
     "slide_type": "slide"
    },
    "tags": []
   },
   "source": [
    "# The ``Poincare`` class \n",
    "- Stores numerical values of canonical variables"
   ]
  },
  {
   "cell_type": "code",
   "execution_count": null,
   "id": "a6d7b253",
   "metadata": {
    "editable": true,
    "slideshow": {
     "slide_type": ""
    },
    "tags": []
   },
   "outputs": [],
   "source": [
    "Lambda1 = qp_pairs[0][1]\n",
    "Lambda1, poincare_particles.qp[Lambda1]"
   ]
  },
  {
   "cell_type": "markdown",
   "id": "346f309f",
   "metadata": {
    "editable": true,
    "slideshow": {
     "slide_type": "fragment"
    },
    "tags": []
   },
   "source": [
    "- Also provides orbital mass, orbital elements, etc."
   ]
  },
  {
   "cell_type": "code",
   "execution_count": null,
   "id": "a7925cc0",
   "metadata": {
    "editable": true,
    "slideshow": {
     "slide_type": ""
    },
    "tags": []
   },
   "outputs": [],
   "source": [
    "particle = poincare_particles.particles[1]\n",
    "print(particle.m,particle.a,particle.e,particle.inc)"
   ]
  },
  {
   "cell_type": "markdown",
   "id": "b5d6adb7",
   "metadata": {
    "editable": true,
    "slideshow": {
     "slide_type": "slide"
    },
    "tags": []
   },
   "source": [
    "# The ``PoincareHamiltonian`` class \n",
    "- Represents a planetary system's Hamiltonian\n"
   ]
  },
  {
   "cell_type": "code",
   "execution_count": null,
   "id": "dbc17beb",
   "metadata": {
    "editable": true,
    "slideshow": {
     "slide_type": ""
    },
    "tags": []
   },
   "outputs": [],
   "source": [
    "type(Hp)"
   ]
  },
  {
   "cell_type": "markdown",
   "id": "8972918d",
   "metadata": {
    "editable": true,
    "slideshow": {
     "slide_type": "fragment"
    },
    "tags": []
   },
   "source": [
    "- The ``H`` attribute stores the symbolic Hamiltonian\n",
    "    - Keplerian terms upon intialization "
   ]
  },
  {
   "cell_type": "code",
   "execution_count": null,
   "id": "20f966bc",
   "metadata": {
    "editable": true,
    "slideshow": {
     "slide_type": "-"
    },
    "tags": []
   },
   "outputs": [],
   "source": [
    "Hp.H"
   ]
  },
  {
   "cell_type": "markdown",
   "id": "db11d294",
   "metadata": {
    "editable": true,
    "slideshow": {
     "slide_type": "fragment"
    },
    "tags": []
   },
   "source": [
    " - Or, in orbital elements: \n",
    " $$\n",
    " -\\frac{Gm_*m_1}{2a_1}-\\frac{Gm_*m_2}{2a_2}\n",
    " $$"
   ]
  },
  {
   "cell_type": "markdown",
   "id": "64fd2654",
   "metadata": {
    "editable": true,
    "slideshow": {
     "slide_type": "slide"
    },
    "tags": []
   },
   "source": [
    "# The ``PoincareHamiltonian`` class \n",
    "- Stores numerical values of symbolic parameters as well"
   ]
  },
  {
   "cell_type": "code",
   "execution_count": null,
   "id": "e3263a5c",
   "metadata": {
    "editable": true,
    "slideshow": {
     "slide_type": "-"
    },
    "tags": []
   },
   "outputs": [],
   "source": [
    "Hp.N_H"
   ]
  },
  {
   "cell_type": "markdown",
   "id": "18b04358",
   "metadata": {
    "editable": true,
    "slideshow": {
     "slide_type": "slide"
    },
    "tags": []
   },
   "source": [
    "# Building a Hamiltonian\n",
    "- Users build up a Hamiltonian by selecting and adding disturbing function terms\n",
    "- ``PoincareHamiltonian`` includes an extensive interface for specifying and adding terms\n",
    "- We'll add terms for the 3:2 MMR"
   ]
  },
  {
   "cell_type": "code",
   "execution_count": null,
   "id": "321f3d6c",
   "metadata": {
    "editable": true,
    "slideshow": {
     "slide_type": "-"
    },
    "tags": []
   },
   "outputs": [],
   "source": [
    "Hp.add_MMR_terms(p=3,q=1,max_order=1,indexIn=1,indexOut=2)"
   ]
  },
  {
   "cell_type": "markdown",
   "id": "b241a61d",
   "metadata": {
    "editable": true,
    "slideshow": {
     "slide_type": "slide"
    },
    "tags": []
   },
   "source": [
    "## The symbolic Hamiltonian is updated with the newly-added terms"
   ]
  },
  {
   "cell_type": "code",
   "execution_count": null,
   "id": "a0c48654",
   "metadata": {
    "editable": true,
    "slideshow": {
     "slide_type": "-"
    },
    "tags": []
   },
   "outputs": [],
   "source": [
    "Hp.H"
   ]
  },
  {
   "cell_type": "markdown",
   "id": "28029d62",
   "metadata": {
    "editable": true,
    "slideshow": {
     "slide_type": "slide"
    },
    "tags": []
   },
   "source": [
    "# Building a Hamiltonian\n",
    "- Equivalent in terms of orbital elements:"
   ]
  },
  {
   "cell_type": "code",
   "execution_count": null,
   "id": "fae70678",
   "metadata": {
    "editable": true,
    "slideshow": {
     "slide_type": "-"
    },
    "tags": []
   },
   "outputs": [],
   "source": [
    "Hp.df"
   ]
  },
  {
   "cell_type": "markdown",
   "id": "85f0b54a",
   "metadata": {
    "editable": true,
    "slideshow": {
     "slide_type": "slide"
    },
    "tags": []
   },
   "source": [
    "# Integrating Hamilton's equations\n",
    " - Equations of motion automatically generated from the Hamiltonian\n",
    " - Integration and particle interface designed to mirror ``rebound``"
   ]
  },
  {
   "cell_type": "code",
   "execution_count": null,
   "id": "48d26a75-1c53-4055-97df-556ab602e79d",
   "metadata": {
    "editable": true,
    "slideshow": {
     "slide_type": "-"
    },
    "tags": []
   },
   "outputs": [],
   "source": [
    "rebound_particles = rebound_sim.particles\n",
    "celmech_particles = Hp.particles\n",
    "\n",
    "# times to save output\n",
    "times = np.linspace(0,2500 * rebound_particles[1].P,100)\n",
    "\n",
    "# Arrays to store results\n",
    "theta_rebound = np.zeros(100)\n",
    "theta_celmech = np.zeros(100)\n",
    "\n",
    "# Main integration loop\n",
    "for i,t in enumerate(times):\n",
    "    rebound_sim.integrate(t)\n",
    "    Hp.integrate(t)\n",
    "    # save resonant angle\n",
    "    theta_celmech[i] = 3*celmech_particles[2].l - 2 * celmech_particles[1].l - celmech_particles[1].pomega\n",
    "    theta_rebound[i] = 3*rebound_particles[2].l - 2 * rebound_particles[1].l - rebound_particles[1].pomega\n",
    "    \n",
    "\n",
    "wrap2pi = lambda x: np.mod(x+np.pi,2*np.pi)-np.pi\n",
    "theta_celmech=wrap2pi(theta_celmech)\n",
    "theta_rebound=wrap2pi(theta_rebound)"
   ]
  },
  {
   "cell_type": "markdown",
   "id": "8c140948",
   "metadata": {
    "editable": true,
    "slideshow": {
     "slide_type": "slide"
    },
    "tags": []
   },
   "source": [
    "# Comparing $N$-body and ``celmech``\n",
    "- The simple ``celmech`` model shows fair agreement with direct $N$-body integration"
   ]
  },
  {
   "cell_type": "code",
   "execution_count": null,
   "id": "5c4cb7b8",
   "metadata": {
    "editable": true,
    "slideshow": {
     "slide_type": "-"
    },
    "tags": [
     "to_remove"
    ]
   },
   "outputs": [],
   "source": [
    "fig,ax = plt.subplots(1,sharex=True,figsize=(8,5))\n",
    "ax.plot(times,theta_rebound,color='k',lw=2,label='rebound')\n",
    "ax.plot(times,theta_celmech,color='r',lw=2,label='celmech')\n",
    "plt.tick_params(labelsize=15,direction='in',size=8)\n",
    "ax.set_ylabel(r\"$3\\lambda_2-2\\lambda_1-\\varpi_1$\",fontsize=20)\n",
    "ax.yaxis.set_ticks([-np.pi,-0.5*np.pi,0,0.5*np.pi,np.pi],\n",
    "                   labels=[r\"$-\\pi$\",r\"$-\\pi/2$\",r\"$0$\",r\"$\\pi/2$\",r\"$\\pi$\"]\n",
    "                  )\n",
    "ax.legend(fontsize=12)\n",
    "ax.set_xlabel(r\"Time [$P_\\mathrm{in}$]\",fontsize=20)"
   ]
  },
  {
   "cell_type": "markdown",
   "id": "f73f5860",
   "metadata": {
    "editable": true,
    "slideshow": {
     "slide_type": "slide"
    },
    "tags": []
   },
   "source": [
    "# Laplace-Lagrange secular theory\n",
    "- Classical Laplace-Lagrange secular theory provides an approximation for the evolution of planets' eccentricities and inclinations\n",
    "\n",
    "- Individual planets' elements $(h_i,k_i)=e_i\\times (\\sin\\varpi_i,\\cos\\varpi_i)$ and $(p_i,q_i)=\\sin(I_i/2)\\times (\\sin\\varpi_i,\\cos\\varpi_i)$ are described as a sum of modes. I.e.,\n",
    "\n",
    "$$ \n",
    "\\begin{align}\n",
    "h_i(t) &= \\sum_{j=1}^N a_{ij}\\sin(g_j t + \\phi_j) &;~ k_i(t) = \\sum_{j=1}^N a_{ij}\\cos(g_j t + \\phi_j)\n",
    "\\\\\n",
    "p_i(t) &=\\sum_{j=1}^{N} b_{ij}\\sin(s_j t + \\psi_j)& ;~q_i(t)=\\sum_{j=1}^{N} b_{ij}\\cos(s_j t + \\psi_j)\n",
    "\\end{align}\n",
    "$$"
   ]
  },
  {
   "cell_type": "markdown",
   "id": "f17b41fa-b565-4908-999c-1b47ad8daa03",
   "metadata": {
    "editable": true,
    "slideshow": {
     "slide_type": "slide"
    },
    "tags": []
   },
   "source": [
    "# Laplace-Lagrange secular theory\n",
    "We'll use `celmech` to construct the predictions of Laplace-Lagrange secular theory for the outer solar system."
   ]
  },
  {
   "cell_type": "code",
   "execution_count": null,
   "id": "8f287480",
   "metadata": {
    "editable": true,
    "slideshow": {
     "slide_type": ""
    },
    "tags": []
   },
   "outputs": [],
   "source": [
    "# Set up the outer solar system\n",
    "sim = rebound.Simulation()\n",
    "sim.units=('Msun','yr','AU')\n",
    "for body in (\"Sun\",\"Jupiter\",\"Saturn\",\"Uranus\",\"Neptune\"):\n",
    "    sim.add(body)\n",
    "sim.move_to_com()\n",
    "sim.integrator = 'whfast'\n",
    "sim.dt = sim.particles[1].P / 20."
   ]
  },
  {
   "cell_type": "markdown",
   "id": "d5b2a0f4-714e-4592-9e47-5dbc221562d6",
   "metadata": {
    "editable": true,
    "slideshow": {
     "slide_type": "slide"
    },
    "tags": []
   },
   "source": [
    "# Laplace-Lagrange secular theory\n",
    "We could go ahead and use `celmech` to construct and integrate the secular Hamiltonian to leading order in eccentricities and inclinations:"
   ]
  },
  {
   "cell_type": "code",
   "execution_count": null,
   "id": "f37b7ee2-aab9-42f0-bd36-002162b9d74a",
   "metadata": {
    "editable": true,
    "slideshow": {
     "slide_type": ""
    },
    "tags": []
   },
   "outputs": [],
   "source": [
    "# Initialize Poincare Hamiltonian\n",
    "pvars = Poincare.from_Simulation(sim)\n",
    "pham = PoincareHamiltonian(pvars)"
   ]
  },
  {
   "cell_type": "code",
   "execution_count": null,
   "id": "be97a349-0d70-46c6-aa54-801b8f2d5587",
   "metadata": {
    "editable": true,
    "slideshow": {
     "slide_type": ""
    },
    "tags": []
   },
   "outputs": [],
   "source": [
    "# add secular all secular terms for each planet pair up to second order in e and I\n",
    "for i in range(1,sim.N):\n",
    "    for j in range(i+1,sim.N):\n",
    "        pham.add_secular_terms(indexIn=i,indexOut=j,max_order=2)"
   ]
  },
  {
   "cell_type": "code",
   "execution_count": null,
   "id": "d83a0c46-4cc5-4da2-8a7c-3e1c497e29ac",
   "metadata": {
    "editable": true,
    "slideshow": {
     "slide_type": ""
    },
    "tags": []
   },
   "outputs": [],
   "source": [
    "pham.df"
   ]
  },
  {
   "cell_type": "markdown",
   "id": "db851846-4174-4fe0-adf4-82fcfe1e6256",
   "metadata": {
    "editable": true,
    "slideshow": {
     "slide_type": "slide"
    },
    "tags": []
   },
   "source": [
    "# Laplace-Lagrange secular theory\n",
    "Instead, we'll use the class `celmech.secular.LaplaceLagrangeSystem` to construct an analytic solution for a system's secular evolution"
   ]
  },
  {
   "cell_type": "code",
   "execution_count": null,
   "id": "031dbca3",
   "metadata": {
    "editable": true,
    "slideshow": {
     "slide_type": ""
    },
    "tags": []
   },
   "outputs": [],
   "source": [
    "from celmech.secular import LaplaceLagrangeSystem\n",
    "ll_sys = LaplaceLagrangeSystem.from_Simulation(sim)"
   ]
  },
  {
   "cell_type": "markdown",
   "id": "0aca6dc0-28d9-4c49-86d3-f884447668ea",
   "metadata": {
    "editable": true,
    "slideshow": {
     "slide_type": "slide"
    },
    "tags": []
   },
   "source": [
    "# Laplace-Lagrange secular theory\n",
    "We'll use a `celmech` convenience function, `get_simarchive_integration_results` to load the results of a `rebound.Simulationarchive` file"
   ]
  },
  {
   "cell_type": "code",
   "execution_count": null,
   "id": "639fdca7-a29c-4a65-8720-59563503b855",
   "metadata": {
    "editable": true,
    "slideshow": {
     "slide_type": ""
    },
    "tags": []
   },
   "outputs": [],
   "source": [
    "# Do integration if saved file doesn't exist\n",
    "save_file = 'outer_ss.sa'\n",
    "from os.path import exists\n",
    "if not exists(save_file):\n",
    "    Tfin = 2e6\n",
    "    sim.save_to_file('outer_ss.sa',delete_file=True,interval = Tfin / 256)\n",
    "    sim.integrate(Tfin)"
   ]
  },
  {
   "cell_type": "code",
   "execution_count": null,
   "id": "50788c98-7036-4f95-ad2b-c5a3efa94721",
   "metadata": {
    "editable": true,
    "slideshow": {
     "slide_type": ""
    },
    "tags": []
   },
   "outputs": [],
   "source": [
    "# Load a dictionary of results\n",
    "from celmech.nbody_simulation_utilities import get_simarchive_integration_results as get_results\n",
    "nbody_results = get_results('outer_ss.sa')"
   ]
  },
  {
   "cell_type": "markdown",
   "id": "44fc9001-59f7-482f-a7f8-0998c2af205b",
   "metadata": {
    "editable": true,
    "slideshow": {
     "slide_type": "slide"
    },
    "tags": []
   },
   "source": [
    "# Laplace-Lagrange secular theory\n",
    "The `LaplaceLagrangeSystem.secular_solution` method computes an analytic solution for planets' secular orbital evolution at user-specified times."
   ]
  },
  {
   "cell_type": "code",
   "execution_count": null,
   "id": "611ea03d",
   "metadata": {
    "editable": true,
    "slideshow": {
     "slide_type": ""
    },
    "tags": []
   },
   "outputs": [],
   "source": [
    "times = nbody_results['time']\n",
    "ll_results = ll_sys.secular_solution(times)"
   ]
  },
  {
   "cell_type": "code",
   "execution_count": null,
   "id": "df0ab0db",
   "metadata": {
    "editable": true,
    "slideshow": {
     "slide_type": ""
    },
    "tags": []
   },
   "outputs": [],
   "source": [
    "planets=(\"Jupiter\",\"Saturn\",\"Uranus\",\"Neptune\")\n",
    "fig,ax= plt.subplots(4,4,figsize=(16,8),sharex=True,sharey='row')\n",
    "for i in range(4):\n",
    "    # eccentricity variables\n",
    "    h = nbody_results['e'][i] * np.sin(nbody_results['pomega'][i])\n",
    "    k = nbody_results['e'][i] * np.cos(nbody_results['pomega'][i])\n",
    "    ax[i,0].plot(times/1e3,h,'k')\n",
    "    ax[i,1].plot(times/1e3,k,'k')\n",
    "    # inclination variables\n",
    "    s = np.sin(0.5*nbody_results['inc'][i]) \n",
    "    p = s * np.sin(nbody_results['Omega'][i])\n",
    "    q = s * np.cos(nbody_results['Omega'][i])\n",
    "    ax[i,2].plot(times/1e3,p,'k')\n",
    "    ax[i,3].plot(times/1e3,q,'k')\n",
    "    \n",
    "    # celmech solution\n",
    "    ax[i,0].plot(times/1e3,ll_results['h'][i],'r')    \n",
    "    ax[i,1].plot(times/1e3,ll_results['k'][i],'r')\n",
    "    ax[i,2].plot(times/1e3,ll_results['p'][i],'r')\n",
    "    ax[i,3].plot(times/1e3,ll_results['q'][i],'r')\n",
    "    \n",
    "    ax[i,0].set_ylabel(planets[i])\n",
    "for i in range(4):\n",
    "    ax[3,i].set_xlabel(\"Time [kyr]\",fontsize=14)\n",
    "    title = (r'$e_i\\sin\\varpi_i$',r'$e_i\\cos\\varpi_i$',r'$\\sin(I_i/2)\\sin\\Omega_i$',r'$\\sin(I_i/2)\\cos\\Omega_i$')\n",
    "    ax[0,i].set_title(title[i],fontsize=14)"
   ]
  },
  {
   "cell_type": "markdown",
   "id": "03e9a2f2",
   "metadata": {
    "editable": true,
    "slideshow": {
     "slide_type": "slide"
    },
    "tags": []
   },
   "source": [
    "## But wait, there's much more!\n",
    " - **Hamiltonian mechanics**\n",
    "     - Construct arbitrary Hamiltonians & integrate equations of motion\n",
    "     - Canonical transformations\n",
    "     - Lie series perturbation theory\n",
    " - **Secular theory**\n",
    "     - Laplace-Lagrange theory (including 2nd order in mass)\n",
    "     - Non-linear secular equations\n",
    "         - Symplectic integration\n",
    "         - Second order in mass\n",
    " - **Mean motion resonance**\n",
    "     - Numerically-averaged resonance equations\n",
    "         - No expansion in $e$ and $I$\n",
    "         - Supports dissipative forces\n",
    " - And **more**! (resonant chains, TTVs, frequency analysis, AMD,...)"
   ]
  }
 ],
 "metadata": {
  "celltoolbar": "Slideshow",
  "kernelspec": {
   "display_name": "Python 3 (ipykernel)",
   "language": "python",
   "name": "python3"
  },
  "language_info": {
   "codemirror_mode": {
    "name": "ipython",
    "version": 3
   },
   "file_extension": ".py",
   "mimetype": "text/x-python",
   "name": "python",
   "nbconvert_exporter": "python",
   "pygments_lexer": "ipython3",
   "version": "3.11.9"
  }
 },
 "nbformat": 4,
 "nbformat_minor": 5
}
